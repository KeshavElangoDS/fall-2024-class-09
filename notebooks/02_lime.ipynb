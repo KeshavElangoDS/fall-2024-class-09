{
 "cells": [
  {
   "cell_type": "code",
   "execution_count": 1,
   "metadata": {},
   "outputs": [],
   "source": [
    "%load_ext autoreload\n",
    "%autoreload 2\n",
    "%matplotlib widget\n",
    "\n",
    "import lime\n",
    "import lime.lime_tabular\n",
    "\n",
    "import numpy as np\n",
    "import matplotlib.pyplot as plt\n",
    "from mpl_toolkits.mplot3d import Axes3D\n",
    "\n",
    "from sklearn.ensemble import RandomForestClassifier\n",
    "from sklearn.model_selection import train_test_split\n",
    "from sklearn.metrics import accuracy_score\n",
    "\n",
    "from notebooks.data_generation import generate_challenge_dataset"
   ]
  },
  {
   "cell_type": "code",
   "execution_count": 2,
   "metadata": {},
   "outputs": [
    {
     "name": "stdout",
     "output_type": "stream",
     "text": [
      "Train Accuracy: 0.985\n",
      "Test Accuracy: 0.845\n"
     ]
    }
   ],
   "source": [
    "n_useless_features = 1\n",
    "x, y = generate_challenge_dataset(n_useless_features)\n",
    "\n",
    "x_train, x_test, y_train, y_test = train_test_split(\n",
    "    x, y, test_size=0.2, random_state=42\n",
    ")\n",
    "\n",
    "clf = RandomForestClassifier(n_estimators=100, max_depth=15, random_state=42)\n",
    "\n",
    "clf.fit(x_train, y_train)\n",
    "\n",
    "y_pred_train = clf.predict(x_train)\n",
    "acc_train = accuracy_score(y_train, y_pred_train)\n",
    "print(\"Train Accuracy:\", acc_train)\n",
    "\n",
    "y_pred_test = clf.predict(x_test)\n",
    "acc_test = accuracy_score(y_test, y_pred_test)\n",
    "print(\"Test Accuracy:\", acc_test)"
   ]
  },
  {
   "cell_type": "code",
   "execution_count": 3,
   "metadata": {},
   "outputs": [],
   "source": [
    "explain_index = 200\n",
    "num_features = x_train.shape[1]\n",
    "feature_names = [str(idx) for idx in range(1, num_features + 1)]"
   ]
  },
  {
   "cell_type": "code",
   "execution_count": 4,
   "metadata": {},
   "outputs": [],
   "source": [
    "explainer = lime.lime_tabular.LimeTabularExplainer(\n",
    "    x_train,\n",
    "    mode=\"classification\",\n",
    "    feature_names=feature_names,\n",
    "    class_names=[\"y=0\", \"y=1\"],\n",
    "    verbose=False,\n",
    "    discretize_continuous=False,\n",
    ")"
   ]
  },
  {
   "cell_type": "code",
   "execution_count": 5,
   "metadata": {},
   "outputs": [],
   "source": [
    "# This will not work right away\n",
    "# explanation = explainer.explain_instance(\n",
    "#     x_test[explain_index],\n",
    "#     clf.predict,\n",
    "#     num_features=num_features,\n",
    "# )"
   ]
  },
  {
   "cell_type": "code",
   "execution_count": 6,
   "metadata": {},
   "outputs": [],
   "source": [
    "predict_probability = lambda x: clf.predict_proba(x).astype(float)\n",
    "explanation = explainer.explain_instance(\n",
    "    x_test[explain_index],\n",
    "    predict_probability,\n",
    "    num_features=num_features,\n",
    ")"
   ]
  },
  {
   "cell_type": "code",
   "execution_count": 7,
   "metadata": {},
   "outputs": [
    {
     "data": {
      "image/png": "[encoded data removed]",
      "text/plain": [
       "<Figure size 640x480 with 1 Axes>"
      ]
     },
     "metadata": {},
     "output_type": "display_data"
    }
   ],
   "source": [
    "%matplotlib inline\n",
    "fig = explanation.as_pyplot_figure()"
   ]
  },
  {
   "cell_type": "code",
   "execution_count": 8,
   "metadata": {},
   "outputs": [
    {
     "name": "stdout",
     "output_type": "stream",
     "text": [
      "<lime.explanation.Explanation object at 0x7f376000af00>\n"
     ]
    }
   ],
   "source": [
    "print(explanation)"
   ]
  },
  {
   "cell_type": "code",
   "execution_count": 9,
   "metadata": {},
   "outputs": [],
   "source": [
    "def print_attributes(my_object):\n",
    "    print(\n",
    "        \"\\n\".join(\n",
    "            [\n",
    "                attribute\n",
    "                for attribute in dir(my_object)\n",
    "                if not attribute.startswith(\"_\")\n",
    "            ]\n",
    "        )\n",
    "    )"
   ]
  },
  {
   "cell_type": "code",
   "execution_count": 10,
   "metadata": {},
   "outputs": [
    {
     "name": "stdout",
     "output_type": "stream",
     "text": [
      "as_html\n",
      "as_list\n",
      "as_map\n",
      "as_pyplot_figure\n",
      "available_labels\n",
      "class_names\n",
      "domain_mapper\n",
      "intercept\n",
      "local_exp\n",
      "local_pred\n",
      "mode\n",
      "predict_proba\n",
      "random_state\n",
      "save_to_file\n",
      "score\n",
      "show_in_notebook\n",
      "top_labels\n"
     ]
    }
   ],
   "source": [
    "print_attributes(explanation)"
   ]
  },
  {
   "cell_type": "code",
   "execution_count": 11,
   "metadata": {},
   "outputs": [
    {
     "name": "stdout",
     "output_type": "stream",
     "text": [
      "{1: [(np.int64(15), np.float64(0.04887919883025719)), (np.int64(3), np.float64(0.04475418514728005)), (np.int64(13), np.float64(0.044432277190553406)), (np.int64(2), np.float64(0.04342625492726531)), (np.int64(7), np.float64(0.04324553341461384)), (np.int64(4), np.float64(0.03953218548035488)), (np.int64(8), np.float64(0.03695531634728324)), (np.int64(10), np.float64(0.03691810682238863)), (np.int64(11), np.float64(0.03545987033221753)), (np.int64(14), np.float64(0.03330593318121282)), (np.int64(5), np.float64(0.030735774457488103)), (np.int64(1), np.float64(0.028671089642516183)), (np.int64(9), np.float64(0.02759820608959773)), (np.int64(12), np.float64(0.02657817230621128)), (np.int64(6), np.float64(0.023604649106105796)), (np.int64(0), np.float64(0.0007372626187650198))]}\n",
      "[('16', 0.04887919883025719), ('4', 0.04475418514728005), ('14', 0.044432277190553406), ('3', 0.04342625492726531), ('8', 0.04324553341461384), ('5', 0.03953218548035488), ('9', 0.03695531634728324), ('11', 0.03691810682238863), ('12', 0.03545987033221753), ('15', 0.03330593318121282), ('6', 0.030735774457488103), ('2', 0.028671089642516183), ('10', 0.02759820608959773), ('13', 0.02657817230621128), ('7', 0.023604649106105796), ('1', 0.0007372626187650198)]\n"
     ]
    }
   ],
   "source": [
    "print(explanation.local_exp)\n",
    "print(explanation.as_list())"
   ]
  },
  {
   "cell_type": "code",
   "execution_count": null,
   "metadata": {},
   "outputs": [],
   "source": [
    "avg_useful_lime_importances_list = []\n",
    "useless_feature_lime_importances_list = []\n",
    "\n",
    "first_useful_feature = 2\n",
    "\n",
    "useless_feature = 1\n",
    "useful_features = np.arange(first_useful_feature, num_features - 1)\n",
    "\n",
    "for idx in range(len(x_test)):\n",
    "    explanation = explainer.explain_instance(\n",
    "        x_test[idx],\n",
    "        predict_probability,\n",
    "        num_features=num_features,\n",
    "    )\n",
    "    explanation_dictionary = {\n",
    "        feature: value for feature, value in explanation.as_list()\n",
    "    }\n",
    "    lime_importances = np.array(explanation.as_list(), dtype=np.float32)\n",
    "    useless_feature_lime_importance = lime_importances[\n",
    "        lime_importances[:, 0] == useless_feature\n",
    "    ][:, 1]\n",
    "    useful_lime_importances = lime_importances[\n",
    "        np.isin(lime_importances[:, 0], list(useful_features))\n",
    "    ][:, 1]\n",
    "    avg_useful_lime_importance = np.average(useful_lime_importances)\n",
    "    avg_useful_lime_importances_list.append(avg_useful_lime_importance)\n",
    "    useless_feature_lime_importances_list.append(\n",
    "        useless_feature_lime_importance\n",
    "    )"
   ]
  },
  {
   "cell_type": "code",
   "execution_count": null,
   "metadata": {},
   "outputs": [],
   "source": [
    "useless_feature_lime_importances = np.array(\n",
    "    useless_feature_lime_importances_list\n",
    ")\n",
    "avg_useful_lime_importances = np.array(avg_useful_lime_importances_list)"
   ]
  },
  {
   "cell_type": "code",
   "execution_count": null,
   "metadata": {},
   "outputs": [],
   "source": [
    "max_useless_to_useful_importance_ratio = np.max(\n",
    "    useless_feature_lime_importances / avg_useful_lime_importances\n",
    ")"
   ]
  },
  {
   "cell_type": "code",
   "execution_count": 15,
   "metadata": {},
   "outputs": [
    {
     "name": "stdout",
     "output_type": "stream",
     "text": [
      "0.19210294\n"
     ]
    }
   ],
   "source": [
    "print(max_useless_to_useful_importance_ratio)"
   ]
  },
  {
   "cell_type": "code",
   "execution_count": null,
   "metadata": {},
   "outputs": [
    {
     "data": {
      "text/plain": [
       "<matplotlib.legend.Legend at 0x7f375be232f0>"
      ]
     },
     "execution_count": 16,
     "metadata": {},
     "output_type": "execute_result"
    },
    {
     "data": {
      "image/png": "[encoded data removed]",
      "text/plain": [
       "<Figure size 600x300 with 1 Axes>"
      ]
     },
     "metadata": {},
     "output_type": "display_data"
    }
   ],
   "source": [
    "indices = np.arange(len(useless_feature_lime_importances))\n",
    "\n",
    "plt.figure(figsize=(6, 3))\n",
    "plt.scatter(\n",
    "    indices,\n",
    "    useless_feature_lime_importances,\n",
    "    label=\"Useless Feature LIME Importances\",\n",
    ")\n",
    "plt.scatter(\n",
    "    indices,\n",
    "    avg_useful_lime_importances,\n",
    "    label=\"Average Useful Feature LIME Importances\",\n",
    ")\n",
    "plt.xlabel(\"Sample Index\")\n",
    "plt.legend()"
   ]
  },
  {
   "cell_type": "code",
   "execution_count": null,
   "metadata": {},
   "outputs": [],
   "source": []
  },
  {
   "cell_type": "code",
   "execution_count": null,
   "metadata": {},
   "outputs": [],
   "source": []
  }
 ],
 "metadata": {
  "kernelspec": {
   "display_name": ".venv",
   "language": "python",
   "name": "python3"
  },
  "language_info": {
   "codemirror_mode": {
    "name": "ipython",
    "version": 3
   },
   "file_extension": ".py",
   "mimetype": "text/x-python",
   "name": "python",
   "nbconvert_exporter": "python",
   "pygments_lexer": "ipython3",
   "version": "3.12.3"
  }
 },
 "nbformat": 4,
 "nbformat_minor": 2
}
