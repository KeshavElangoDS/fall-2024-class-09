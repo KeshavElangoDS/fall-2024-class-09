{
 "cells": [
  {
   "cell_type": "code",
   "execution_count": 1,
   "metadata": {},
   "outputs": [],
   "source": [
    "%load_ext autoreload\n",
    "%autoreload 2\n",
    "%matplotlib widget\n",
    "\n",
    "import lime\n",
    "import lime.lime_tabular\n",
    "\n",
    "import numpy as np\n",
    "import matplotlib.pyplot as plt\n",
    "from mpl_toolkits.mplot3d import Axes3D\n",
    "\n",
    "from sklearn.ensemble import RandomForestClassifier\n",
    "from sklearn.model_selection import train_test_split\n",
    "from sklearn.metrics import accuracy_score\n",
    "\n",
    "# from notebooks.data_generation import generate_challenge_dataset\n",
    "from data_generation import generate_challenge_dataset"
   ]
  },
  {
   "cell_type": "code",
   "execution_count": 2,
   "metadata": {},
   "outputs": [
    {
     "name": "stdout",
     "output_type": "stream",
     "text": [
      "Train Accuracy: 0.980625\n",
      "Test Accuracy: 0.8575\n"
     ]
    }
   ],
   "source": [
    "n_useless_features = 1\n",
    "x, y = generate_challenge_dataset(n_useless_features)\n",
    "\n",
    "x_train, x_test, y_train, y_test = train_test_split(\n",
    "    x, y, test_size=0.2, random_state=42\n",
    ")\n",
    "\n",
    "clf = RandomForestClassifier(n_estimators=100, max_depth=15, random_state=42)\n",
    "\n",
    "clf.fit(x_train, y_train)\n",
    "\n",
    "y_pred_train = clf.predict(x_train)\n",
    "acc_train = accuracy_score(y_train, y_pred_train)\n",
    "print(\"Train Accuracy:\", acc_train)\n",
    "\n",
    "y_pred_test = clf.predict(x_test)\n",
    "acc_test = accuracy_score(y_test, y_pred_test)\n",
    "print(\"Test Accuracy:\", acc_test)"
   ]
  },
  {
   "cell_type": "markdown",
   "metadata": {},
   "source": [
    "### sample 200 , give an inference on it, use LIME to say why RF predicted somthing the way it predicted.\n",
    "grab no of array\n",
    "list comprehension, LIME output even in HTML.\n"
   ]
  },
  {
   "cell_type": "code",
   "execution_count": 3,
   "metadata": {},
   "outputs": [],
   "source": [
    "explain_index = 200\n",
    "num_features = x_train.shape[1]\n",
    "feature_names = [str(idx) for idx in range(1, num_features + 1)]"
   ]
  },
  {
   "cell_type": "code",
   "execution_count": 4,
   "metadata": {},
   "outputs": [],
   "source": [
    "explainer = lime.lime_tabular.LimeTabularExplainer(\n",
    "    x_train,\n",
    "    mode=\"classification\",\n",
    "    feature_names=feature_names,\n",
    "    class_names=[\"y=0\", \"y=1\"],\n",
    "    verbose=False,\n",
    "    discretize_continuous=False,\n",
    ")"
   ]
  },
  {
   "cell_type": "code",
   "execution_count": 5,
   "metadata": {},
   "outputs": [],
   "source": [
    "# This will not work right away\n",
    "# explanation = explainer.explain_instance(\n",
    "#     x_test[explain_index],\n",
    "#     clf.predict,\n",
    "#     num_features=num_features,\n",
    "# )"
   ]
  },
  {
   "cell_type": "code",
   "execution_count": 6,
   "metadata": {},
   "outputs": [],
   "source": [
    "predict_probability = lambda x: clf.predict_proba(x).astype(float)\n",
    "explanation = explainer.explain_instance(\n",
    "    x_test[explain_index],\n",
    "    predict_probability,\n",
    "    num_features=num_features,\n",
    ")"
   ]
  },
  {
   "cell_type": "code",
   "execution_count": 7,
   "metadata": {},
   "outputs": [
    {
     "data": {
      "image/png": "[encoded data removed]",
      "text/plain": [
       "<Figure size 640x480 with 1 Axes>"
      ]
     },
     "metadata": {},
     "output_type": "display_data"
    }
   ],
   "source": [
    "%matplotlib inline\n",
    "fig = explanation.as_pyplot_figure()"
   ]
  },
  {
   "cell_type": "code",
   "execution_count": 8,
   "metadata": {},
   "outputs": [
    {
     "name": "stdout",
     "output_type": "stream",
     "text": [
      "<lime.explanation.Explanation object at 0x11545cc20>\n"
     ]
    }
   ],
   "source": [
    "print(explanation)"
   ]
  },
  {
   "cell_type": "code",
   "execution_count": 9,
   "metadata": {},
   "outputs": [],
   "source": [
    "def print_attributes(my_object):\n",
    "    print(\n",
    "        \"\\n\".join(\n",
    "            [\n",
    "                attribute\n",
    "                for attribute in dir(my_object)\n",
    "                if not attribute.startswith(\"_\")\n",
    "            ]\n",
    "        )\n",
    "    )"
   ]
  },
  {
   "cell_type": "code",
   "execution_count": 10,
   "metadata": {},
   "outputs": [
    {
     "name": "stdout",
     "output_type": "stream",
     "text": [
      "as_html\n",
      "as_list\n",
      "as_map\n",
      "as_pyplot_figure\n",
      "available_labels\n",
      "class_names\n",
      "domain_mapper\n",
      "intercept\n",
      "local_exp\n",
      "local_pred\n",
      "mode\n",
      "predict_proba\n",
      "random_state\n",
      "save_to_file\n",
      "score\n",
      "show_in_notebook\n",
      "top_labels\n"
     ]
    }
   ],
   "source": [
    "print_attributes(explanation)"
   ]
  },
  {
   "cell_type": "code",
   "execution_count": 11,
   "metadata": {},
   "outputs": [
    {
     "name": "stdout",
     "output_type": "stream",
     "text": [
      "{1: [(np.int64(4), np.float64(0.061239855497575664)), (np.int64(15), np.float64(0.05987074548586862)), (np.int64(2), np.float64(0.058919377428075966)), (np.int64(12), np.float64(0.04903921968402472)), (np.int64(5), np.float64(0.04667174086605143)), (np.int64(14), np.float64(0.042387386022026345)), (np.int64(6), np.float64(0.04037743352475726)), (np.int64(13), np.float64(0.03795117963354977)), (np.int64(8), np.float64(0.03623527724882385)), (np.int64(3), np.float64(0.03607776816064052)), (np.int64(9), np.float64(0.035043473427362186)), (np.int64(1), np.float64(0.03480724534655274)), (np.int64(7), np.float64(0.03425173207732848)), (np.int64(10), np.float64(0.03191034367443599)), (np.int64(11), np.float64(0.031810577181506615)), (np.int64(0), np.float64(-0.0014893932711632534))]}\n",
      "[('5', 0.061239855497575664), ('16', 0.05987074548586862), ('3', 0.058919377428075966), ('13', 0.04903921968402472), ('6', 0.04667174086605143), ('15', 0.042387386022026345), ('7', 0.04037743352475726), ('14', 0.03795117963354977), ('9', 0.03623527724882385), ('4', 0.03607776816064052), ('10', 0.035043473427362186), ('2', 0.03480724534655274), ('8', 0.03425173207732848), ('11', 0.03191034367443599), ('12', 0.031810577181506615), ('1', -0.0014893932711632534)]\n"
     ]
    }
   ],
   "source": [
    "print(explanation.local_exp)\n",
    "print(explanation.as_list())"
   ]
  },
  {
   "cell_type": "code",
   "execution_count": 12,
   "metadata": {},
   "outputs": [],
   "source": [
    "avg_useful_lime_importances_list = []\n",
    "useless_feature_lime_importances_list = []\n",
    "\n",
    "first_useful_feature = 2\n",
    "\n",
    "useless_feature = 1\n",
    "useful_features = np.arange(first_useful_feature, num_features - 1)\n",
    "\n",
    "for idx in range(len(x_test)):\n",
    "    explanation = explainer.explain_instance(\n",
    "        x_test[idx],\n",
    "        predict_probability,\n",
    "        num_features=num_features,\n",
    "    )\n",
    "    explanation_dictionary = {\n",
    "        feature: value for feature, value in explanation.as_list()\n",
    "    }\n",
    "    lime_importances = np.array(explanation.as_list(), dtype=np.float32)\n",
    "    useless_feature_lime_importance = lime_importances[\n",
    "        lime_importances[:, 0] == useless_feature\n",
    "    ][:, 1]\n",
    "    useful_lime_importances = lime_importances[\n",
    "        np.isin(lime_importances[:, 0], list(useful_features))\n",
    "    ][:, 1]\n",
    "    avg_useful_lime_importance = np.average(useful_lime_importances)\n",
    "    avg_useful_lime_importances_list.append(avg_useful_lime_importance)\n",
    "    useless_feature_lime_importances_list.append(\n",
    "        useless_feature_lime_importance\n",
    "    )"
   ]
  },
  {
   "cell_type": "code",
   "execution_count": 13,
   "metadata": {},
   "outputs": [],
   "source": [
    "useless_feature_lime_importances = np.array(\n",
    "    useless_feature_lime_importances_list\n",
    ")\n",
    "avg_useful_lime_importances = np.array(avg_useful_lime_importances_list)"
   ]
  },
  {
   "cell_type": "code",
   "execution_count": 14,
   "metadata": {},
   "outputs": [],
   "source": [
    "max_useless_to_useful_importance_ratio = np.max(\n",
    "    useless_feature_lime_importances / avg_useful_lime_importances\n",
    ")"
   ]
  },
  {
   "cell_type": "code",
   "execution_count": 15,
   "metadata": {},
   "outputs": [
    {
     "name": "stdout",
     "output_type": "stream",
     "text": [
      "0.1374295\n"
     ]
    }
   ],
   "source": [
    "print(max_useless_to_useful_importance_ratio)"
   ]
  },
  {
   "cell_type": "code",
   "execution_count": 16,
   "metadata": {},
   "outputs": [
    {
     "data": {
      "text/plain": [
       "<matplotlib.legend.Legend at 0x1154f8da0>"
      ]
     },
     "execution_count": 16,
     "metadata": {},
     "output_type": "execute_result"
    },
    {
     "data": {
      "image/png": "[encoded data removed]",
      "text/plain": [
       "<Figure size 600x300 with 1 Axes>"
      ]
     },
     "metadata": {},
     "output_type": "display_data"
    }
   ],
   "source": [
    "indices = np.arange(len(useless_feature_lime_importances))\n",
    "\n",
    "plt.figure(figsize=(6, 3))\n",
    "plt.scatter(\n",
    "    indices,\n",
    "    useless_feature_lime_importances,\n",
    "    label=\"Useless Feature LIME Importances\",\n",
    ")\n",
    "plt.scatter(\n",
    "    indices,\n",
    "    avg_useful_lime_importances,\n",
    "    label=\"Average Useful Feature LIME Importances\",\n",
    ")\n",
    "plt.xlabel(\"Sample Index\")\n",
    "plt.legend()"
   ]
  },
  {
   "cell_type": "code",
   "execution_count": null,
   "metadata": {},
   "outputs": [],
   "source": []
  },
  {
   "cell_type": "code",
   "execution_count": null,
   "metadata": {},
   "outputs": [],
   "source": []
  }
 ],
 "metadata": {
  "kernelspec": {
   "display_name": ".venv",
   "language": "python",
   "name": "python3"
  },
  "language_info": {
   "codemirror_mode": {
    "name": "ipython",
    "version": 3
   },
   "file_extension": ".py",
   "mimetype": "text/x-python",
   "name": "python",
   "nbconvert_exporter": "python",
   "pygments_lexer": "ipython3",
   "version": "3.12.7"
  }
 },
 "nbformat": 4,
 "nbformat_minor": 2
}
